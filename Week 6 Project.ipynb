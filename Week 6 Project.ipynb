{
 "cells": [
  {
   "cell_type": "markdown",
   "id": "ce8cd62b",
   "metadata": {},
   "source": [
    "## Week 6 Deep learning"
   ]
  },
  {
   "cell_type": "markdown",
   "id": "33ff0fe0",
   "metadata": {},
   "source": [
    "Introduction:\n",
    "This hourly data set contains the PM2.5 data in Beijing, Shanghai, Guangzhou, Chengdu and Shenyang. Meanwhile, meteorological data for each city are also included.\n",
    "https://archive.ics.uci.edu/ml/datasets/PM2.5+Data+of+Five+Chinese+Cities"
   ]
  },
  {
   "cell_type": "markdown",
   "id": "f34cf1e5",
   "metadata": {},
   "source": [
    "## Objective \n",
    "I used  recurrent neural networks and LTSM model to predict the PM2.5 level in Beijing, Shanghai, Guangzhou, Chengdu and Shenyang using time series."
   ]
  },
  {
   "cell_type": "markdown",
   "id": "956deb6f",
   "metadata": {},
   "source": [
    "## Imports"
   ]
  },
  {
   "cell_type": "code",
   "execution_count": 1,
   "id": "98e54fc6",
   "metadata": {},
   "outputs": [],
   "source": [
    "import sys, os\n",
    "import numpy as np\n",
    "import matplotlib.pyplot as plt\n",
    "import warnings\n",
    "warnings.simplefilter(action='ignore')\n",
    "import seaborn as sns\n",
    "import pandas as pd\n",
    "from datetime import datetime"
   ]
  },
  {
   "cell_type": "code",
   "execution_count": null,
   "id": "910f6e96",
   "metadata": {},
   "outputs": [],
   "source": [
    "import tensorflow \n",
    "from tensorflow.keras.models import Sequential\n",
    "from tensorflow.keras.layers import Dense, SimpleRNN, LSTM, Activation, Dropout"
   ]
  },
  {
   "cell_type": "code",
   "execution_count": null,
   "id": "af1bff0e",
   "metadata": {},
   "outputs": [],
   "source": [
    "import math\n",
    "from sklearn.preprocessing import MinMaxScaler\n",
    "from sklearn.metrics import mean_squared_error"
   ]
  }
 ],
 "metadata": {
  "kernelspec": {
   "display_name": "Python 3",
   "language": "python",
   "name": "python3"
  },
  "language_info": {
   "codemirror_mode": {
    "name": "ipython",
    "version": 3
   },
   "file_extension": ".py",
   "mimetype": "text/x-python",
   "name": "python",
   "nbconvert_exporter": "python",
   "pygments_lexer": "ipython3",
   "version": "3.8.10"
  }
 },
 "nbformat": 4,
 "nbformat_minor": 5
}
